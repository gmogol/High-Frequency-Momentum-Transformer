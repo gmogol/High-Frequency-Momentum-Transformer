{
 "cells": [
  {
   "cell_type": "code",
   "execution_count": 1,
   "id": "a395b1ae",
   "metadata": {},
   "outputs": [],
   "source": [
    "from mom_trans.backtest import run_single_window \n",
    "import pandas as pd"
   ]
  },
  {
   "cell_type": "code",
   "execution_count": 2,
   "id": "8ae68f57",
   "metadata": {},
   "outputs": [],
   "source": [
    "from settings.fixed_params import MODLE_PARAMS as mp #model params lol\n",
    "mp['batch_size'] = 64\n",
    "mp['num_epochs'] = 10\n",
    "mp['total_time_steps'] = 64"
   ]
  },
  {
   "cell_type": "code",
   "execution_count": null,
   "id": "356af6eb",
   "metadata": {},
   "outputs": [],
   "source": [
    "df = pd.read_csv('msft_preprocessed.csv')\n",
    "df['Time'] = pd.to_datetime(df['Time'])\n",
    "dff = pd.DataFrame(df.groupby([pd.Grouper(key='Time', freq='1Min')]).sum()).reset_index()\n",
    "ticker = df.iloc[:len(dff),3]\n",
    "dff['ticker'] = ticker\n",
    "df1 = pd.read_csv('jpm_preprocessed.csv')\n",
    "df1['Time'] = pd.to_datetime(df1['Time'])\n",
    "dff1 = pd.DataFrame(df1.groupby([pd.Grouper(key='Time', freq='1Min')]).sum()).reset_index()\n",
    "ticker1 = df1.iloc[:len(dff1),3]\n",
    "dff1['ticker'] = ticker1\n",
    "df2 = pd.read_csv('aapl_preprocessed.csv')\n",
    "df2['Time'] = pd.to_datetime(df2['Time'])\n",
    "dff2 = pd.DataFrame(df2.groupby([pd.Grouper(key='Time', freq='1Min')]).sum()).reset_index()\n",
    "ticker2 = df2.iloc[:len(dff2),3]\n",
    "dff2['ticker'] = ticker2\n",
    "df3 = pd.read_csv('amzn_preprocessed.csv')\n",
    "df3['Time'] = pd.to_datetime(df3['Time'])\n",
    "dff3 = pd.DataFrame(df3.groupby([pd.Grouper(key='Time', freq='1Min')]).sum()).reset_index()\n",
    "ticker3 = df3.iloc[:len(dff3),3]\n",
    "dff3['ticker'] = ticker3\n",
    "df4 = pd.read_csv('goog_preprocessed.csv')\n",
    "df4['Time'] = pd.to_datetime(df4['Time'])\n",
    "dff4 = pd.DataFrame(df4.groupby([pd.Grouper(key='Time', freq='1Min')]).sum()).reset_index()\n",
    "ticker4 = df4.iloc[:len(dff4),3]\n",
    "dff4['ticker'] = ticker4\n",
    "cd = pd.concat([dff,dff1,dff2,dff3,dff4])\n",
    "cd1 = cd.sort_values(by='Time', ascending=True)\n",
    "cd1['Time'] = cd1['Time'].astype(object)\n",
    "print(cd.dtypes)\n",
    "cd1.to_csv(\"jpm_msft_minute.csv\",index=False)\n",
    "#print(cd.head())"
   ]
  },
  {
   "cell_type": "code",
   "execution_count": 5,
   "metadata": {},
   "outputs": [
    {
     "name": "stdout",
     "output_type": "stream",
     "text": [
      "                        Time  Trade_Price ticker  Log_Return  log_1min  \\\n",
      "0 2020-01-09 09:30:00.289776       161.85   MSFT         0.0       0.0   \n",
      "1 2020-01-09 09:30:00.289783       161.85   MSFT         0.0       0.0   \n",
      "2 2020-01-09 09:30:00.289788       161.85   MSFT         0.0       0.0   \n",
      "3 2020-01-09 09:30:00.289791       161.85   MSFT         0.0       0.0   \n",
      "4 2020-01-09 09:30:00.289798       161.85   MSFT         0.0       0.0   \n",
      "\n",
      "   volatility_log_1min  log_10min  volatility_log_10min  log_30min  \\\n",
      "0                  NaN        0.0                   NaN        0.0   \n",
      "1                  NaN        0.0                   NaN        0.0   \n",
      "2                  NaN        0.0                   NaN        0.0   \n",
      "3                  NaN        0.0                   NaN        0.0   \n",
      "4                  0.0        0.0                   0.0        0.0   \n",
      "\n",
      "   volatility_log_30min  log_1h  volatility_log_1h  log_3h  volatility_log_3h  \n",
      "0                   NaN     0.0                NaN     0.0                NaN  \n",
      "1                   NaN     0.0                NaN     0.0                NaN  \n",
      "2                   NaN     0.0                NaN     0.0                NaN  \n",
      "3                   NaN     0.0                NaN     0.0                NaN  \n",
      "4                   0.0     0.0                0.0     0.0                0.0  \n"
     ]
    }
   ],
   "source": [
    "df = pd.read_csv('jpm_msft.csv')\n",
    "df['Time'] = pd.to_datetime(df['Time'])\n",
    "df = df.drop('Trade_Volume',axis=1)\n",
    "print(df.head())\n",
    "df = df.sort_values(by='Time', ascending=True)\n",
    "df.to_csv(\"jpm_msft_sorted.csv\",index=False)\n"
   ]
  },
  {
   "cell_type": "code",
   "execution_count": 3,
   "id": "4118e1be",
   "metadata": {},
   "outputs": [
    {
     "name": "stdout",
     "output_type": "stream",
     "text": [
      "here\n"
     ]
    },
    {
     "name": "stderr",
     "output_type": "stream",
     "text": [
      "/Users/nanditakumari/Desktop/Finance_project/project_11_20/mom_trans/model_inputs.py:176: SettingWithCopyWarning: \n",
      "A value is trying to be set on a copy of a slice from a DataFrame.\n",
      "Try using .loc[row_indexer,col_indexer] = value instead\n",
      "\n",
      "See the caveats in the documentation: https://pandas.pydata.org/pandas-docs/stable/user_guide/indexing.html#returning-a-view-versus-a-copy\n",
      "  df[\"static_ticker\"] = df[\"ticker\"]\n"
     ]
    },
    {
     "name": "stdout",
     "output_type": "stream",
     "text": [
      "made it\n",
      "Deep Momentum Network params:\n",
      "architecture = TFT\n",
      "total_time_steps = 64\n",
      "early_stopping_patience = 25\n",
      "multiprocessing_workers = 32\n",
      "num_epochs = 10\n",
      "fill_blank_dates = False\n",
      "split_tickers_individually = True\n",
      "random_search_iterations = 50\n",
      "evaluate_diversified_val_sharpe = True\n",
      "train_valid_ratio = 0.9\n",
      "time_features = False\n",
      "force_output_sharpe_length = 0\n",
      "batch_size = 64\n",
      "input_size = 10\n",
      "output_size = 1\n",
      "category_counts = [5]\n",
      "static_input_loc = [9]\n",
      "known_regular_inputs = [0, 1, 2, 3, 4, 5, 6, 7, 8]\n",
      "known_categorical_inputs = [0]\n",
      "column_definition = [('ticker', <DataTypes.CATEGORICAL: 1>, <InputTypes.ID: 4>), ('Time', <DataTypes.DATE: 2>, <InputTypes.TIME: 5>), ('log_10min', <DataTypes.REAL_VALUED: 0>, <InputTypes.KNOWN_INPUT: 2>), ('log_30min', <DataTypes.REAL_VALUED: 0>, <InputTypes.KNOWN_INPUT: 2>), ('log_1h', <DataTypes.REAL_VALUED: 0>, <InputTypes.KNOWN_INPUT: 2>), ('log_3h', <DataTypes.REAL_VALUED: 0>, <InputTypes.KNOWN_INPUT: 2>), ('volatility_log_1min', <DataTypes.REAL_VALUED: 0>, <InputTypes.KNOWN_INPUT: 2>), ('volatility_log_10min', <DataTypes.REAL_VALUED: 0>, <InputTypes.KNOWN_INPUT: 2>), ('volatility_log_30min', <DataTypes.REAL_VALUED: 0>, <InputTypes.KNOWN_INPUT: 2>), ('volatility_log_1h', <DataTypes.REAL_VALUED: 0>, <InputTypes.KNOWN_INPUT: 2>), ('volatility_log_3h', <DataTypes.REAL_VALUED: 0>, <InputTypes.KNOWN_INPUT: 2>), ('static_ticker', <DataTypes.CATEGORICAL: 1>, <InputTypes.STATIC_INPUT: 3>), ('log_1min', <DataTypes.REAL_VALUED: 0>, <InputTypes.TARGET: 0>)]\n",
      "num_encoder_steps = 0\n",
      "stack_size = 1\n",
      "num_heads = 4\n"
     ]
    },
    {
     "name": "stderr",
     "output_type": "stream",
     "text": [
      "/Users/nanditakumari/miniconda3/envs/finML/lib/python3.6/site-packages/keras/optimizer_v2/optimizer_v2.py:356: UserWarning: The `lr` argument is deprecated, use `learning_rate` instead.\n",
      "  \"The `lr` argument is deprecated, use `learning_rate` instead.\")\n"
     ]
    }
   ],
   "source": [
    "features,model = run_single_window(experiment_name='test2',\n",
    "                                   features_file_path='jpm_msft_sorted.csv',\n",
    "                                   changepoint_lbws=False,\n",
    "                                   train_interval= ('2020-01-09 09:30:00','2020-01-28 09:30:00','2020-01-29 16:30:00'), params = mp)"
   ]
  },
  {
   "cell_type": "code",
   "execution_count": 4,
   "id": "809eef1e",
   "metadata": {},
   "outputs": [
    {
     "name": "stdout",
     "output_type": "stream",
     "text": [
      "Epoch 1/10\n",
      "1687/1687 [==============================] - 109s 57ms/step - loss: -4.5100\n",
      "\n",
      "val_sharpe 4.412642738863248\n",
      "yup here\n",
      "Epoch 2/10\n",
      "1687/1687 [==============================] - 93s 55ms/step - loss: -5.0483\n",
      "\n",
      "val_sharpe 4.4508455584822935\n",
      "yup here\n",
      "Epoch 3/10\n",
      "1687/1687 [==============================] - 95s 56ms/step - loss: -5.1203\n",
      "\n",
      "val_sharpe 4.477594216993593\n",
      "yup here\n",
      "Epoch 4/10\n",
      "1687/1687 [==============================] - 97s 58ms/step - loss: -5.1808\n",
      "\n",
      "val_sharpe 4.232189742639618\n",
      "yup here\n",
      "Epoch 5/10\n",
      "1687/1687 [==============================] - 93s 55ms/step - loss: -5.2380\n",
      "\n",
      "val_sharpe 4.616133525850365\n",
      "yup here\n",
      "Epoch 6/10\n",
      "1687/1687 [==============================] - 94s 56ms/step - loss: -5.2619\n",
      "\n",
      "val_sharpe 4.617834727149883\n",
      "yup here\n",
      "Epoch 7/10\n",
      "1687/1687 [==============================] - 95s 56ms/step - loss: -5.4921\n",
      "\n",
      "val_sharpe 4.686302156873862\n",
      "yup here\n",
      "Epoch 8/10\n",
      "1687/1687 [==============================] - 96s 57ms/step - loss: -5.6409\n",
      "\n",
      "val_sharpe 4.270919074479522\n",
      "yup here\n",
      "Epoch 9/10\n",
      "1687/1687 [==============================] - 95s 56ms/step - loss: -5.8804\n",
      "\n",
      "val_sharpe 5.251685994397811\n",
      "yup here\n",
      "Epoch 10/10\n",
      "1687/1687 [==============================] - 98s 58ms/step - loss: -6.0075\n",
      "\n",
      "val_sharpe 3.9536435522723696\n",
      "yup here\n"
     ]
    }
   ],
   "source": [
    "result= model.fit(features.train,features.valid,mp,'abc')"
   ]
  },
  {
   "cell_type": "code",
   "execution_count": 5,
   "metadata": {},
   "outputs": [
    {
     "name": "stdout",
     "output_type": "stream",
     "text": [
      "{'architecture': 'TFT', 'total_time_steps': 64, 'early_stopping_patience': 25, 'multiprocessing_workers': 32, 'num_epochs': 10, 'fill_blank_dates': False, 'split_tickers_individually': True, 'random_search_iterations': 50, 'evaluate_diversified_val_sharpe': True, 'train_valid_ratio': 0.9, 'time_features': False, 'force_output_sharpe_length': 0, 'batch_size': 64, 'hidden_layer_size': 10, 'dropout_rate': 0.1, 'max_gradient_norm': 0.01, 'learning_rate': 0.0001}\n",
      "6.125127521748281\n",
      "4.664828924548874\n",
      "5.501448440203719\n"
     ]
    }
   ],
   "source": [
    "print(mp)\n",
    "loc = model.get_positions(features.train,result)\n",
    "loc1 = model.get_positions(features.test_fixed,result)\n",
    "loc2 = model.get_positions(features.valid,result)\n",
    "print(loc[1])\n",
    "print(loc1[1])\n",
    "print(loc2[1])"
   ]
  },
  {
   "cell_type": "code",
   "execution_count": 6,
   "metadata": {},
   "outputs": [
    {
     "data": {
      "text/plain": [
       "array([[1.        , 0.30957304],\n",
       "       [0.30957304, 1.        ]])"
      ]
     },
     "execution_count": 6,
     "metadata": {},
     "output_type": "execute_result"
    }
   ],
   "source": [
    "import numpy as np\n",
    "loc[0].to_csv(\"msft_aapl_amzn_jpm_goog_train_output_dr1_ls10_lr4.csv\",index=False)\n",
    "loc1[0].to_csv(\"msft_aapl_amzn_jpm_goog_test_output_dr1_ls10_lr4.csv\",index=False)\n",
    "loc2[0].to_csv(\"msft_aapl_amzn_jpm_goog_valid_output_dr1_ls10_lr4.csv\",index=False)\n",
    "test=loc[0]\n",
    "test1=loc1[0]\n",
    "test2=loc2[0]\n",
    "#print(test)\n",
    "np.corrcoef(test.returns,test.position)"
   ]
  },
  {
   "cell_type": "code",
   "execution_count": 7,
   "metadata": {},
   "outputs": [
    {
     "data": {
      "text/plain": [
       "array([[1.        , 0.24960197],\n",
       "       [0.24960197, 1.        ]])"
      ]
     },
     "execution_count": 7,
     "metadata": {},
     "output_type": "execute_result"
    }
   ],
   "source": [
    "np.corrcoef(test1.returns,test1.position)"
   ]
  },
  {
   "cell_type": "code",
   "execution_count": 8,
   "metadata": {},
   "outputs": [
    {
     "data": {
      "text/plain": [
       "array([[1.        , 0.31173434],\n",
       "       [0.31173434, 1.        ]])"
      ]
     },
     "execution_count": 8,
     "metadata": {},
     "output_type": "execute_result"
    }
   ],
   "source": [
    "np.corrcoef(test2.returns,test2.position)"
   ]
  },
  {
   "cell_type": "code",
   "execution_count": 51,
   "metadata": {},
   "outputs": [],
   "source": [
    "import matplotlib.pyplot as plt\n",
    "#plt.plot(test1.captured_returns.cumsum())"
   ]
  },
  {
   "cell_type": "code",
   "execution_count": 10,
   "metadata": {},
   "outputs": [],
   "source": [
    "def get_time_sharpe(df):\n",
    "    sharpe= df.captured_returns.expanding().mean()/df.captured_returns.expanding().std()\n",
    "    return sharpe"
   ]
  },
  {
   "cell_type": "code",
   "execution_count": 39,
   "metadata": {},
   "outputs": [
    {
     "name": "stdout",
     "output_type": "stream",
     "text": [
      "      identifier                        time   returns  position  \\\n",
      "0           AAPL  2020-01-28 09:30:01.028522  0.000224  0.491285   \n",
      "1           AAPL  2020-01-28 09:30:01.269578  0.000320  0.586222   \n",
      "2           AAPL  2020-01-28 09:30:01.635995  0.000384  0.666618   \n",
      "3           AAPL  2020-01-28 09:30:01.811126  0.000512  0.757815   \n",
      "4           AAPL  2020-01-28 09:30:01.903067  0.000608  0.822547   \n",
      "...          ...                         ...       ...       ...   \n",
      "23632       MSFT  2020-01-29 16:29:19.373488  0.001517  0.066981   \n",
      "23633       MSFT  2020-01-29 16:29:27.834014  0.001750  0.115932   \n",
      "23634       MSFT  2020-01-29 16:29:46.338190  0.001050  0.194550   \n",
      "23635       MSFT  2020-01-29 16:29:53.610144  0.000467  0.060689   \n",
      "23636        NaN  2020-01-29 16:29:59.717882  0.000000  0.065713   \n",
      "\n",
      "       captured_returns  \n",
      "0              0.000110  \n",
      "1              0.000188  \n",
      "2              0.000256  \n",
      "3              0.000388  \n",
      "4              0.000500  \n",
      "...                 ...  \n",
      "23632          0.000102  \n",
      "23633          0.000203  \n",
      "23634          0.000204  \n",
      "23635          0.000028  \n",
      "23636          0.000000  \n",
      "\n",
      "[23637 rows x 5 columns]\n"
     ]
    }
   ],
   "source": [
    "fdf = pd.read_csv(\"msft_aapl_amzn_jpm_goog_test_output_dr1_ls10_lr4.csv\")\n",
    "print(fdf)\n",
    "fdf['time'] = pd.to_datetime(fdf['time'])\n",
    "fdf = fdf.sort_values(by='time', ascending=True)\n",
    "sh = get_time_sharpe(fdf)\n"
   ]
  },
  {
   "cell_type": "code",
   "execution_count": 44,
   "metadata": {},
   "outputs": [
    {
     "data": {
      "text/plain": [
       "Text(0.5, 0, 'Time')"
      ]
     },
     "execution_count": 44,
     "metadata": {},
     "output_type": "execute_result"
    },
    {
     "data": {
      "image/png": "[encoded data removed]",
      "text/plain": [
       "<Figure size 432x288 with 1 Axes>"
      ]
     },
     "metadata": {
      "needs_background": "light"
     },
     "output_type": "display_data"
    }
   ],
   "source": [
    "import matplotlib.pyplot as plt\n",
    "#plt.plot(fdf.time,sh*np.sqrt(252))#\n",
    "plt.plot(fdf.time,fdf.returns)#\n",
    "plt.title(\"Exhibit 2\")\n",
    "plt.ylabel(\"Returns\")\n",
    "plt.xticks(rotation=90)\n",
    "plt.xlabel(\"Time\")"
   ]
  },
  {
   "cell_type": "code",
   "execution_count": 49,
   "metadata": {},
   "outputs": [
    {
     "data": {
      "text/plain": [
       "Text(0.5, 0, 'Time')"
      ]
     },
     "execution_count": 49,
     "metadata": {},
     "output_type": "execute_result"
    },
    {
     "data": {
      "image/png": "[encoded data removed]",
      "text/plain": [
       "<Figure size 432x288 with 1 Axes>"
      ]
     },
     "metadata": {
      "needs_background": "light"
     },
     "output_type": "display_data"
    }
   ],
   "source": [
    "plt.plot(fdf.time,sh*np.sqrt(252))#\n",
    "#plt.plot(fdf.time,fdf.returns)#\n",
    "plt.title(\"Exhibit 3\")\n",
    "plt.ylabel(\"Sharpe Ratio\")\n",
    "plt.xticks(rotation=90)\n",
    "plt.xlabel(\"Time\")\n",
    "#plt.ylim(-1,15)\n",
    "#plt.xlim(pd.to_datetime('2020-01-22 09:29:00'),pd.to_datetime('2020-01-28 16:29:00'))"
   ]
  },
  {
   "cell_type": "code",
   "execution_count": 50,
   "metadata": {},
   "outputs": [
    {
     "data": {
      "text/plain": [
       "Text(0.5, 0, 'Time')"
      ]
     },
     "execution_count": 50,
     "metadata": {},
     "output_type": "execute_result"
    },
    {
     "data": {
      "image/png": "[encoded data removed]",
      "text/plain": [
       "<Figure size 432x288 with 1 Axes>"
      ]
     },
     "metadata": {
      "needs_background": "light"
     },
     "output_type": "display_data"
    }
   ],
   "source": [
    "cr = fdf.captured_returns.cumsum()\n",
    "plt.plot(fdf.time,cr)\n",
    "plt.xticks(rotation=90)\n",
    "plt.title(\"Exhibit 4\")\n",
    "plt.ylabel(\"Cumulative Returns (Validation Set)\")\n",
    "plt.xticks(rotation=90)\n",
    "plt.xlabel(\"Time\")"
   ]
  }
 ],
 "metadata": {
  "kernelspec": {
   "display_name": "Python 3",
   "language": "python",
   "name": "python3"
  },
  "language_info": {
   "codemirror_mode": {
    "name": "ipython",
    "version": 3
   },
   "file_extension": ".py",
   "mimetype": "text/x-python",
   "name": "python",
   "nbconvert_exporter": "python",
   "pygments_lexer": "ipython3",
   "version": "3.6.15"
  }
 },
 "nbformat": 4,
 "nbformat_minor": 5
}
